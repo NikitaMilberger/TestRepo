{
  "nbformat": 4,
  "nbformat_minor": 0,
  "metadata": {
    "colab": {
      "provenance": [],
      "include_colab_link": true
    },
    "kernelspec": {
      "name": "python3",
      "display_name": "Python 3"
    },
    "language_info": {
      "name": "python"
    }
  },
  "cells": [
    {
      "cell_type": "markdown",
      "metadata": {
        "id": "view-in-github",
        "colab_type": "text"
      },
      "source": [
        "<a href=\"https://colab.research.google.com/github/NikitaMilberger/TestRepo/blob/master/%D0%9B%D0%B0%D0%B1%D0%BE%D1%80%D0%B0%D1%82%D0%BE%D1%80%D0%BD%D0%B0%D1%8F_1_ipynb%22.ipynb\" target=\"_parent\"><img src=\"https://colab.research.google.com/assets/colab-badge.svg\" alt=\"Open In Colab\"/></a>"
      ]
    },
    {
      "cell_type": "markdown",
      "source": [
        "#Cписок группы\n",
        "\n",
        "\n",
        "\n",
        "*   Серов Иван\n",
        "*   Мильбергер Никита\n",
        "*   Гиль Кирилл\n",
        "\n",
        "\n",
        "\n",
        "\n",
        "Первый столбец | Второй столбец\n",
        "-------------- |---------------\n",
        "Значение 1     | Значение 2\n",
        "Значение 3     | Значение 4\n",
        "\n",
        "[Сайт НГТУ](https://www.nstu.ru/)\n",
        "\n",
        "![An image](https://encrypted-tbn0.gstatic.com/images?q=tbn:ANd9GcRx0_5rRFLIBcSDFUI4SymRQ79pDwMSTxcP72jgnGEiYw&s)\n",
        "\n",
        "\n",
        "\n",
        "\n"
      ],
      "metadata": {
        "id": "drPHtpLUt1gj"
      }
    }
  ]
}